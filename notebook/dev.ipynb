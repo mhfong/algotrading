{
 "cells": [
  {
   "cell_type": "code",
   "execution_count": 33,
   "id": "b35c1646",
   "metadata": {},
   "outputs": [],
   "source": [
    "import requests\n",
    "\n",
    "from alpaca.data.historical import StockHistoricalDataClient\n",
    "from alpaca.data.requests import StockBarsRequest\n",
    "from alpaca.data.timeframe import TimeFrame\n",
    "from alpaca.trading.client import TradingClient\n",
    "from alpaca.trading.requests import MarketOrderRequest\n",
    "from alpaca.trading.enums import OrderSide, TimeInForce\n",
    "\n",
    "\n",
    "API_KEY = 'PK2OAJ6G3WDWOR7LOCNR'\n",
    "API_SECRET = 'Cijyf8prq5dSLThbpdQborahm3FP3cBf8TC5OXOI'\n",
    "BASE_URL = 'https://paper-api.alpaca.markets/v2'\n",
    "paper = True\n",
    "\n",
    "trading_client = TradingClient(API_KEY, API_SECRET, paper=paper)\n",
    "\n",
    "data_client = StockHistoricalDataClient(API_KEY, API_SECRET)"
   ]
  },
  {
   "cell_type": "code",
   "execution_count": 13,
   "id": "41e49202",
   "metadata": {},
   "outputs": [
    {
     "name": "stdout",
     "output_type": "stream",
     "text": [
      "{\"id\":\"3ca9cee7-c82e-4c93-80d0-ab8353dc32d1\",\"admin_configurations\":{},\"user_configurations\":null,\"account_number\":\"PA30KV88D7EL\",\"status\":\"APPROVED\",\"crypto_status\":\"PAPER_ONLY\",\"options_approved_level\":3,\"options_trading_level\":0,\"currency\":\"USD\",\"buying_power\":\"200000\",\"regt_buying_power\":\"200000\",\"daytrading_buying_power\":\"0\",\"effective_buying_power\":\"200000\",\"non_marginable_buying_power\":\"100000\",\"options_buying_power\":\"100000\",\"bod_dtbp\":\"0\",\"cash\":\"100000\",\"accrued_fees\":\"0\",\"portfolio_value\":\"100000\",\"pattern_day_trader\":false,\"trading_blocked\":false,\"transfers_blocked\":false,\"account_blocked\":false,\"created_at\":\"2025-02-22T11:12:55.123149Z\",\"trade_suspended_by_user\":false,\"multiplier\":\"2\",\"shorting_enabled\":true,\"equity\":\"100000\",\"last_equity\":\"100000\",\"long_market_value\":\"0\",\"short_market_value\":\"0\",\"position_market_value\":\"0\",\"initial_margin\":\"0\",\"maintenance_margin\":\"0\",\"last_maintenance_margin\":\"0\",\"sma\":\"0\",\"daytrade_count\":0,\"balance_asof\":\"2025-02-21\",\"intraday_adjustments\":\"0\",\"pending_reg_taf_fees\":\"0\"}\n"
     ]
    }
   ],
   "source": [
    "url = \"https://paper-api.alpaca.markets/v2/account\"\n",
    "headers = {\n",
    "    \"accept\": \"application/json\",\n",
    "    \"APCA-API-KEY-ID\": API_KEY,\n",
    "    \"APCA-API-SECRET-KEY\": API_SECRET\n",
    "}\n",
    "response = requests.get(url, headers=headers)\n",
    "print(response.text)"
   ]
  },
  {
   "cell_type": "code",
   "execution_count": 37,
   "id": "c5bd1c1a",
   "metadata": {
    "scrolled": false
   },
   "outputs": [
    {
     "data": {
      "text/plain": [
       "{   'account_blocked': False,\n",
       "    'account_number': 'PA30KV88D7EL',\n",
       "    'accrued_fees': '0',\n",
       "    'buying_power': '199873.14',\n",
       "    'cash': '99876.04',\n",
       "    'created_at': datetime.datetime(2025, 2, 22, 11, 12, 55, 123149, tzinfo=datetime.timezone.utc),\n",
       "    'crypto_status': <AccountStatus.ACTIVE: 'ACTIVE'>,\n",
       "    'currency': 'USD',\n",
       "    'daytrade_count': 0,\n",
       "    'daytrading_buying_power': '0',\n",
       "    'equity': '99997.1',\n",
       "    'id': UUID('3ca9cee7-c82e-4c93-80d0-ab8353dc32d1'),\n",
       "    'initial_margin': '60.53',\n",
       "    'last_equity': '99999.56',\n",
       "    'last_maintenance_margin': '0',\n",
       "    'long_market_value': '121.06',\n",
       "    'maintenance_margin': '36.32',\n",
       "    'multiplier': '2',\n",
       "    'non_marginable_buying_power': '99876.04',\n",
       "    'pattern_day_trader': False,\n",
       "    'pending_transfer_in': None,\n",
       "    'pending_transfer_out': None,\n",
       "    'portfolio_value': '99997.1',\n",
       "    'regt_buying_power': '199873.14',\n",
       "    'short_market_value': '0',\n",
       "    'shorting_enabled': True,\n",
       "    'sma': '0',\n",
       "    'status': <AccountStatus.ACTIVE: 'ACTIVE'>,\n",
       "    'trade_suspended_by_user': False,\n",
       "    'trading_blocked': False,\n",
       "    'transfers_blocked': False}"
      ]
     },
     "execution_count": 37,
     "metadata": {},
     "output_type": "execute_result"
    }
   ],
   "source": [
    "account = trading_client.get_account()\n",
    "account"
   ]
  },
  {
   "cell_type": "code",
   "execution_count": 36,
   "id": "4f8337db",
   "metadata": {},
   "outputs": [],
   "source": [
    "market_order_data = MarketOrderRequest(\n",
    "                    symbol=\"AAPL\",\n",
    "                    qty=0.5,\n",
    "                    side=OrderSide.BUY,\n",
    "                    time_in_force=TimeInForce.DAY\n",
    "                    )\n",
    "\n",
    "market_order = trading_client.submit_order(\n",
    "                order_data=market_order_data\n",
    "               )"
   ]
  },
  {
   "cell_type": "code",
   "execution_count": null,
   "id": "9a5af256",
   "metadata": {},
   "outputs": [],
   "source": []
  },
  {
   "cell_type": "code",
   "execution_count": null,
   "id": "319bb5b1",
   "metadata": {},
   "outputs": [],
   "source": []
  },
  {
   "cell_type": "code",
   "execution_count": null,
   "id": "f2c847ee",
   "metadata": {},
   "outputs": [],
   "source": []
  },
  {
   "cell_type": "code",
   "execution_count": null,
   "id": "22b9f3f7",
   "metadata": {},
   "outputs": [],
   "source": []
  },
  {
   "cell_type": "code",
   "execution_count": null,
   "id": "e060e153",
   "metadata": {},
   "outputs": [],
   "source": []
  },
  {
   "cell_type": "code",
   "execution_count": null,
   "id": "858dc7b8",
   "metadata": {},
   "outputs": [],
   "source": []
  },
  {
   "cell_type": "code",
   "execution_count": null,
   "id": "38b18d7f",
   "metadata": {},
   "outputs": [],
   "source": []
  },
  {
   "cell_type": "code",
   "execution_count": null,
   "id": "3debc859",
   "metadata": {},
   "outputs": [],
   "source": []
  },
  {
   "cell_type": "code",
   "execution_count": null,
   "id": "621ed0f2",
   "metadata": {},
   "outputs": [],
   "source": []
  }
 ],
 "metadata": {
  "kernelspec": {
   "display_name": "Python 3 (ipykernel)",
   "language": "python",
   "name": "python3"
  },
  "language_info": {
   "codemirror_mode": {
    "name": "ipython",
    "version": 3
   },
   "file_extension": ".py",
   "mimetype": "text/x-python",
   "name": "python",
   "nbconvert_exporter": "python",
   "pygments_lexer": "ipython3",
   "version": "3.7.16"
  }
 },
 "nbformat": 4,
 "nbformat_minor": 5
}
